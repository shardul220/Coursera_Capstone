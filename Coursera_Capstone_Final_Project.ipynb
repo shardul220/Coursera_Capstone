{
 "cells": [
  {
   "cell_type": "markdown",
   "metadata": {},
   "source": [
    "# Capstone Project - Exploring and Clustering Restaurants in Pune, India\n",
    "### Applied Data Science Capstone by IBM/Coursera"
   ]
  },
  {
   "cell_type": "markdown",
   "metadata": {},
   "source": [
    "## Table of contents\n",
    "* [Introduction: Business Problem](#introduction)\n",
    "* [Data](#data)\n",
    "* [Methodology](#methodology)\n",
    "* [Analysis](#analysis)\n",
    "* [Results and Discussion](#results)\n",
    "* [Conclusion](#conclusion)"
   ]
  },
  {
   "cell_type": "markdown",
   "metadata": {},
   "source": [
    "## Introduction: Business Problem <a name=\"introduction\"></a>"
   ]
  },
  {
   "cell_type": "markdown",
   "metadata": {},
   "source": [
    "In this project we will explore and group the **restaurants** in the city of **Pune** in few categories based on the **Ratings** and **Price range** of the Restaurants.\n",
    "Pune is home to an eclectic crowd of food-lovers and the city serves up everything from Western favourites to Asian delicacies. Whether you’re looking for a haven of fusion foods or a traditional taste of lip-smacking snacks—there’s no dearth of restaurants to satisfy the discerning palate.Pune, being a metropolis and centre of prominent education institutes, is a melting pot of cultures which is reflected in its food too. \n",
    "The food-lovers are always in search of Restaurants with Good Ratings and also Restaurants that suits there Pocket.This project will help these people to shortlist and plan their visit to the restaurants accordingly.\n",
    "This project will also help businesses who are looking to invest in eateries in the Pune city.\n",
    "\n",
    "With the help of machine learning and Data science we will try to achieve the objective of this project."
   ]
  },
  {
   "cell_type": "markdown",
   "metadata": {},
   "source": [
    "## Data <a name=\"data\"></a>"
   ]
  },
  {
   "cell_type": "markdown",
   "metadata": {},
   "source": [
    "Based on definition of our problem, factors that will influence our decission are:\n",
    "* The location of the Restaurants in Pune\n",
    "* The categories of these restaurants\n",
    "* The Ratings of these restaurants \n",
    "* The Price range of these restaurants\n",
    "\n",
    "The data source that we will use to fetch the location information,the categories,ratings and price range of restaurants will be **the FourSquare API**"
   ]
  },
  {
   "cell_type": "markdown",
   "metadata": {},
   "source": [
    "Importing the required packages"
   ]
  },
  {
   "cell_type": "code",
   "execution_count": 2,
   "metadata": {},
   "outputs": [
    {
     "name": "stdout",
     "output_type": "stream",
     "text": [
      "Collecting geopy\n",
      "\u001b[?25l  Downloading https://files.pythonhosted.org/packages/53/fc/3d1b47e8e82ea12c25203929efb1b964918a77067a874b2c7631e2ec35ec/geopy-1.21.0-py2.py3-none-any.whl (104kB)\n",
      "\u001b[K     |████████████████████████████████| 112kB 8.4MB/s eta 0:00:01\n",
      "\u001b[?25hCollecting geographiclib<2,>=1.49 (from geopy)\n",
      "  Downloading https://files.pythonhosted.org/packages/8b/62/26ec95a98ba64299163199e95ad1b0e34ad3f4e176e221c40245f211e425/geographiclib-1.50-py3-none-any.whl\n",
      "Installing collected packages: geographiclib, geopy\n",
      "Successfully installed geographiclib-1.50 geopy-1.21.0\n",
      "Note: you may need to restart the kernel to use updated packages.\n"
     ]
    }
   ],
   "source": [
    "#Importing packages\n",
    "import numpy as np\n",
    "import pandas as pd\n",
    "%pip install geopy \n",
    "from geopy.geocoders import Nominatim\n",
    "import matplotlib.cm as cm\n",
    "import matplotlib.colors as colors\n",
    "from sklearn.cluster import KMeans\n",
    "import folium\n",
    "import matplotlib.pyplot as plt\n",
    "import matplotlib.cm as cm\n",
    "import matplotlib.colors as colors\n",
    "import requests # library to handle requests\n",
    "from pandas.io.json import json_normalize # tranform JSON file into a pandas dataframe"
   ]
  },
  {
   "cell_type": "markdown",
   "metadata": {},
   "source": [
    "**Pune** is a city with a large area of 331 sq.km.\n",
    "We will use the geopy library to extract the Latitude and Longitude coordinates of Pune City"
   ]
  },
  {
   "cell_type": "code",
   "execution_count": 3,
   "metadata": {},
   "outputs": [
    {
     "name": "stdout",
     "output_type": "stream",
     "text": [
      "The geograpical coordinates of Pune City are 18.521428, 73.8544541.\n"
     ]
    }
   ],
   "source": [
    "address = 'Pune'\n",
    "\n",
    "geolocator = Nominatim(user_agent=\"pune_explorer\")\n",
    "location = geolocator.geocode(address)\n",
    "latitude = location.latitude\n",
    "longitude = location.longitude\n",
    "print('The geograpical coordinates of Pune City are {}, {}.'.format(latitude, longitude))"
   ]
  },
  {
   "cell_type": "markdown",
   "metadata": {},
   "source": [
    "Now using these co-ordinates and using the Folium library we will plot the Map of Pune\n",
    "It will help us know the centre and surrounding area of it"
   ]
  },
  {
   "cell_type": "code",
   "execution_count": 4,
   "metadata": {},
   "outputs": [
    {
     "data": {
      "text/html": [
       "<div style=\"width:100%;\"><div style=\"position:relative;width:100%;height:0;padding-bottom:60%;\"><iframe src=\"about:blank\" style=\"position:absolute;width:100%;height:100%;left:0;top:0;border:none !important;\" data-html=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 onload=\"this.contentDocument.open();this.contentDocument.write(atob(this.getAttribute('data-html')));this.contentDocument.close();\" allowfullscreen webkitallowfullscreen mozallowfullscreen></iframe></div></div>"
      ],
      "text/plain": [
       "<folium.folium.Map at 0x7fef18738eb8>"
      ]
     },
     "execution_count": 4,
     "metadata": {},
     "output_type": "execute_result"
    }
   ],
   "source": [
    "pune_map = folium.Map(location = [latitude, longitude], zoom_start = 13)\n",
    "folium.Marker([latitude, longitude]).add_to(pune_map)\n",
    "pune_map.save(\"Pune Map.html\")\n",
    "pune_map"
   ]
  },
  {
   "cell_type": "markdown",
   "metadata": {},
   "source": [
    "### Foursquare API\n",
    "Now that we have our location candidates, let's use Foursquare API to get info on restaurants\n",
    "First we will have to define the parameters of the API, we will keep the Radius 20 Km and limit the number of venues to 200"
   ]
  },
  {
   "cell_type": "code",
   "execution_count": 5,
   "metadata": {},
   "outputs": [],
   "source": [
    "CLIENT_ID = 'KT5LJ0DVAD21MUTCJAFC1OIV2CMXIOEY0B1S1EWYSF3CSA3P' #  Foursquare ID\n",
    "CLIENT_SECRET = 'PHNFH1J5S2VWPS551WUQFJEVSYQ11DBH33LYT0TGQBA0OXJC' #  Foursquare Secret\n",
    "VERSION = '20180605' # Foursquare API version\n",
    "RADIUS = 20000  \n",
    "LIMIT = 200"
   ]
  },
  {
   "cell_type": "markdown",
   "metadata": {},
   "source": [
    "We will use the /explore API of Foursquare and filter all venues to get only the food-related venues"
   ]
  },
  {
   "cell_type": "code",
   "execution_count": 6,
   "metadata": {},
   "outputs": [
    {
     "data": {
      "text/plain": [
       "100"
      ]
     },
     "execution_count": 6,
     "metadata": {},
     "output_type": "execute_result"
    }
   ],
   "source": [
    "food_category = '4d4b7105d754a06374d81259' # 'Root' category for all food-related venues\n",
    "url = 'https://api.foursquare.com/v2/venues/explore?categoryId={}&client_id={}&client_secret={}&ll={},{}&v={}&radius={}&limit={}'.format(food_category,CLIENT_ID, CLIENT_SECRET, latitude, longitude, VERSION,  RADIUS, LIMIT)\n",
    "results = requests.get(url).json()\n",
    "venues_fetched = len(results['response']['groups'][0]['items'])\n",
    "venues_fetched"
   ]
  },
  {
   "cell_type": "code",
   "execution_count": 7,
   "metadata": {},
   "outputs": [
    {
     "name": "stderr",
     "output_type": "stream",
     "text": [
      "/home/jupyterlab/conda/envs/python/lib/python3.6/site-packages/ipykernel_launcher.py:5: FutureWarning: pandas.io.json.json_normalize is deprecated, use pandas.json_normalize instead\n",
      "  \"\"\"\n"
     ]
    },
    {
     "data": {
      "text/html": [
       "<div>\n",
       "<style scoped>\n",
       "    .dataframe tbody tr th:only-of-type {\n",
       "        vertical-align: middle;\n",
       "    }\n",
       "\n",
       "    .dataframe tbody tr th {\n",
       "        vertical-align: top;\n",
       "    }\n",
       "\n",
       "    .dataframe thead th {\n",
       "        text-align: right;\n",
       "    }\n",
       "</style>\n",
       "<table border=\"1\" class=\"dataframe\">\n",
       "  <thead>\n",
       "    <tr style=\"text-align: right;\">\n",
       "      <th></th>\n",
       "      <th>referralId</th>\n",
       "      <th>reasons.count</th>\n",
       "      <th>reasons.items</th>\n",
       "      <th>venue.id</th>\n",
       "      <th>venue.name</th>\n",
       "      <th>venue.location.address</th>\n",
       "      <th>venue.location.lat</th>\n",
       "      <th>venue.location.lng</th>\n",
       "      <th>venue.location.labeledLatLngs</th>\n",
       "      <th>venue.location.distance</th>\n",
       "      <th>...</th>\n",
       "      <th>venue.location.city</th>\n",
       "      <th>venue.location.state</th>\n",
       "      <th>venue.location.country</th>\n",
       "      <th>venue.location.formattedAddress</th>\n",
       "      <th>venue.categories</th>\n",
       "      <th>venue.photos.count</th>\n",
       "      <th>venue.photos.groups</th>\n",
       "      <th>venue.location.crossStreet</th>\n",
       "      <th>venue.venuePage.id</th>\n",
       "      <th>venue.location.neighborhood</th>\n",
       "    </tr>\n",
       "  </thead>\n",
       "  <tbody>\n",
       "    <tr>\n",
       "      <th>0</th>\n",
       "      <td>e-0-4feebcafe4b0da11fdbe582b-0</td>\n",
       "      <td>0</td>\n",
       "      <td>[{'summary': 'This spot is popular', 'type': '...</td>\n",
       "      <td>4feebcafe4b0da11fdbe582b</td>\n",
       "      <td>Mad Over Donuts</td>\n",
       "      <td>Near Sambhaji Park, JM Road</td>\n",
       "      <td>18.519335</td>\n",
       "      <td>73.845320</td>\n",
       "      <td>[{'label': 'display', 'lat': 18.51933511140425...</td>\n",
       "      <td>991</td>\n",
       "      <td>...</td>\n",
       "      <td>Pune</td>\n",
       "      <td>Mahārāshtra</td>\n",
       "      <td>India</td>\n",
       "      <td>[Near Sambhaji Park, JM Road, Pune 411004, Mah...</td>\n",
       "      <td>[{'id': '4bf58dd8d48988d148941735', 'name': 'D...</td>\n",
       "      <td>0</td>\n",
       "      <td>[]</td>\n",
       "      <td>NaN</td>\n",
       "      <td>NaN</td>\n",
       "      <td>NaN</td>\n",
       "    </tr>\n",
       "    <tr>\n",
       "      <th>1</th>\n",
       "      <td>e-0-509e80b6e4b04eb23d1ec2e2-1</td>\n",
       "      <td>0</td>\n",
       "      <td>[{'summary': 'This spot is popular', 'type': '...</td>\n",
       "      <td>509e80b6e4b04eb23d1ec2e2</td>\n",
       "      <td>Le Plaisir</td>\n",
       "      <td>Shop No. 4B, Lane 6 Intersection, Off Bhandark...</td>\n",
       "      <td>18.514205</td>\n",
       "      <td>73.838551</td>\n",
       "      <td>[{'label': 'display', 'lat': 18.51420497479481...</td>\n",
       "      <td>1861</td>\n",
       "      <td>...</td>\n",
       "      <td>Pune</td>\n",
       "      <td>Mahārāshtra</td>\n",
       "      <td>India</td>\n",
       "      <td>[Shop No. 4B, Lane 6 Intersection, Off Bhandar...</td>\n",
       "      <td>[{'id': '52e81612bcbc57f1066b79f1', 'name': 'B...</td>\n",
       "      <td>0</td>\n",
       "      <td>[]</td>\n",
       "      <td>Opp. Kelkar Eye Hospital, Prabhat Road</td>\n",
       "      <td>52549645</td>\n",
       "      <td>NaN</td>\n",
       "    </tr>\n",
       "    <tr>\n",
       "      <th>2</th>\n",
       "      <td>e-0-4b9b583cf964a520aa0136e3-2</td>\n",
       "      <td>0</td>\n",
       "      <td>[{'summary': 'This spot is popular', 'type': '...</td>\n",
       "      <td>4b9b583cf964a520aa0136e3</td>\n",
       "      <td>Café GoodLuck</td>\n",
       "      <td>759/75, GoodLuck Chowk</td>\n",
       "      <td>18.517388</td>\n",
       "      <td>73.841485</td>\n",
       "      <td>[{'label': 'display', 'lat': 18.5173883002662,...</td>\n",
       "      <td>1440</td>\n",
       "      <td>...</td>\n",
       "      <td>Pune</td>\n",
       "      <td>Mahārāshtra</td>\n",
       "      <td>India</td>\n",
       "      <td>[759/75, GoodLuck Chowk (Corner of FC Road and...</td>\n",
       "      <td>[{'id': '4bf58dd8d48988d16d941735', 'name': 'C...</td>\n",
       "      <td>0</td>\n",
       "      <td>[]</td>\n",
       "      <td>Corner of FC Road and Bhandarkar Road</td>\n",
       "      <td>NaN</td>\n",
       "      <td>NaN</td>\n",
       "    </tr>\n",
       "    <tr>\n",
       "      <th>3</th>\n",
       "      <td>e-0-4de24c587d8b2547eaffe58b-3</td>\n",
       "      <td>0</td>\n",
       "      <td>[{'summary': 'This spot is popular', 'type': '...</td>\n",
       "      <td>4de24c587d8b2547eaffe58b</td>\n",
       "      <td>Tilak Hotel</td>\n",
       "      <td>Sadashiv Peth</td>\n",
       "      <td>18.509603</td>\n",
       "      <td>73.846883</td>\n",
       "      <td>[{'label': 'display', 'lat': 18.50960261815985...</td>\n",
       "      <td>1540</td>\n",
       "      <td>...</td>\n",
       "      <td>Pune</td>\n",
       "      <td>Mahārāshtra</td>\n",
       "      <td>India</td>\n",
       "      <td>[Sadashiv Peth (Tilak road), Pune 411030, Mahā...</td>\n",
       "      <td>[{'id': '4bf58dd8d48988d1c7941735', 'name': 'S...</td>\n",
       "      <td>0</td>\n",
       "      <td>[]</td>\n",
       "      <td>Tilak road</td>\n",
       "      <td>NaN</td>\n",
       "      <td>NaN</td>\n",
       "    </tr>\n",
       "    <tr>\n",
       "      <th>4</th>\n",
       "      <td>e-0-4f016c4629c201c6fec99a78-4</td>\n",
       "      <td>0</td>\n",
       "      <td>[{'summary': 'This spot is popular', 'type': '...</td>\n",
       "      <td>4f016c4629c201c6fec99a78</td>\n",
       "      <td>Barbeque Nation</td>\n",
       "      <td>3rd Floor R Deccan Mall</td>\n",
       "      <td>18.516237</td>\n",
       "      <td>73.842223</td>\n",
       "      <td>[{'label': 'display', 'lat': 18.51623735504808...</td>\n",
       "      <td>1414</td>\n",
       "      <td>...</td>\n",
       "      <td>Pune</td>\n",
       "      <td>Mahārāshtra</td>\n",
       "      <td>India</td>\n",
       "      <td>[3rd Floor R Deccan Mall (Jangali Maharaj Road...</td>\n",
       "      <td>[{'id': '4bf58dd8d48988d1df931735', 'name': 'B...</td>\n",
       "      <td>0</td>\n",
       "      <td>[]</td>\n",
       "      <td>Jangali Maharaj Road</td>\n",
       "      <td>NaN</td>\n",
       "      <td>NaN</td>\n",
       "    </tr>\n",
       "  </tbody>\n",
       "</table>\n",
       "<p>5 rows × 22 columns</p>\n",
       "</div>"
      ],
      "text/plain": [
       "                       referralId  reasons.count  \\\n",
       "0  e-0-4feebcafe4b0da11fdbe582b-0              0   \n",
       "1  e-0-509e80b6e4b04eb23d1ec2e2-1              0   \n",
       "2  e-0-4b9b583cf964a520aa0136e3-2              0   \n",
       "3  e-0-4de24c587d8b2547eaffe58b-3              0   \n",
       "4  e-0-4f016c4629c201c6fec99a78-4              0   \n",
       "\n",
       "                                       reasons.items  \\\n",
       "0  [{'summary': 'This spot is popular', 'type': '...   \n",
       "1  [{'summary': 'This spot is popular', 'type': '...   \n",
       "2  [{'summary': 'This spot is popular', 'type': '...   \n",
       "3  [{'summary': 'This spot is popular', 'type': '...   \n",
       "4  [{'summary': 'This spot is popular', 'type': '...   \n",
       "\n",
       "                   venue.id       venue.name  \\\n",
       "0  4feebcafe4b0da11fdbe582b  Mad Over Donuts   \n",
       "1  509e80b6e4b04eb23d1ec2e2       Le Plaisir   \n",
       "2  4b9b583cf964a520aa0136e3    Café GoodLuck   \n",
       "3  4de24c587d8b2547eaffe58b      Tilak Hotel   \n",
       "4  4f016c4629c201c6fec99a78  Barbeque Nation   \n",
       "\n",
       "                              venue.location.address  venue.location.lat  \\\n",
       "0                        Near Sambhaji Park, JM Road           18.519335   \n",
       "1  Shop No. 4B, Lane 6 Intersection, Off Bhandark...           18.514205   \n",
       "2                             759/75, GoodLuck Chowk           18.517388   \n",
       "3                                      Sadashiv Peth           18.509603   \n",
       "4                            3rd Floor R Deccan Mall           18.516237   \n",
       "\n",
       "   venue.location.lng                      venue.location.labeledLatLngs  \\\n",
       "0           73.845320  [{'label': 'display', 'lat': 18.51933511140425...   \n",
       "1           73.838551  [{'label': 'display', 'lat': 18.51420497479481...   \n",
       "2           73.841485  [{'label': 'display', 'lat': 18.5173883002662,...   \n",
       "3           73.846883  [{'label': 'display', 'lat': 18.50960261815985...   \n",
       "4           73.842223  [{'label': 'display', 'lat': 18.51623735504808...   \n",
       "\n",
       "   venue.location.distance  ... venue.location.city venue.location.state  \\\n",
       "0                      991  ...                Pune          Mahārāshtra   \n",
       "1                     1861  ...                Pune          Mahārāshtra   \n",
       "2                     1440  ...                Pune          Mahārāshtra   \n",
       "3                     1540  ...                Pune          Mahārāshtra   \n",
       "4                     1414  ...                Pune          Mahārāshtra   \n",
       "\n",
       "  venue.location.country                    venue.location.formattedAddress  \\\n",
       "0                  India  [Near Sambhaji Park, JM Road, Pune 411004, Mah...   \n",
       "1                  India  [Shop No. 4B, Lane 6 Intersection, Off Bhandar...   \n",
       "2                  India  [759/75, GoodLuck Chowk (Corner of FC Road and...   \n",
       "3                  India  [Sadashiv Peth (Tilak road), Pune 411030, Mahā...   \n",
       "4                  India  [3rd Floor R Deccan Mall (Jangali Maharaj Road...   \n",
       "\n",
       "                                    venue.categories venue.photos.count  \\\n",
       "0  [{'id': '4bf58dd8d48988d148941735', 'name': 'D...                  0   \n",
       "1  [{'id': '52e81612bcbc57f1066b79f1', 'name': 'B...                  0   \n",
       "2  [{'id': '4bf58dd8d48988d16d941735', 'name': 'C...                  0   \n",
       "3  [{'id': '4bf58dd8d48988d1c7941735', 'name': 'S...                  0   \n",
       "4  [{'id': '4bf58dd8d48988d1df931735', 'name': 'B...                  0   \n",
       "\n",
       "  venue.photos.groups              venue.location.crossStreet  \\\n",
       "0                  []                                     NaN   \n",
       "1                  []  Opp. Kelkar Eye Hospital, Prabhat Road   \n",
       "2                  []   Corner of FC Road and Bhandarkar Road   \n",
       "3                  []                              Tilak road   \n",
       "4                  []                    Jangali Maharaj Road   \n",
       "\n",
       "  venue.venuePage.id venue.location.neighborhood  \n",
       "0                NaN                         NaN  \n",
       "1           52549645                         NaN  \n",
       "2                NaN                         NaN  \n",
       "3                NaN                         NaN  \n",
       "4                NaN                         NaN  \n",
       "\n",
       "[5 rows x 22 columns]"
      ]
     },
     "execution_count": 7,
     "metadata": {},
     "output_type": "execute_result"
    }
   ],
   "source": [
    "# assign relevant part of JSON to venues\n",
    "venues = results['response']['groups'][0]['items']\n",
    "\n",
    "# tranform venues into a dataframe\n",
    "dataframe = json_normalize(venues)\n",
    "dataframe.head()"
   ]
  },
  {
   "cell_type": "markdown",
   "metadata": {},
   "source": [
    "We define the get_category_type method to get the correct category for each restaurant."
   ]
  },
  {
   "cell_type": "code",
   "execution_count": 8,
   "metadata": {},
   "outputs": [],
   "source": [
    "def get_category_type(row):\n",
    "    try:\n",
    "        categories_list = row['categories']\n",
    "    except:\n",
    "        categories_list = row['venue.categories']\n",
    "        \n",
    "    if len(categories_list) == 0:\n",
    "        return None\n",
    "    else:\n",
    "        return categories_list[0]['name']"
   ]
  },
  {
   "cell_type": "code",
   "execution_count": 9,
   "metadata": {},
   "outputs": [
    {
     "data": {
      "text/html": [
       "<div>\n",
       "<style scoped>\n",
       "    .dataframe tbody tr th:only-of-type {\n",
       "        vertical-align: middle;\n",
       "    }\n",
       "\n",
       "    .dataframe tbody tr th {\n",
       "        vertical-align: top;\n",
       "    }\n",
       "\n",
       "    .dataframe thead th {\n",
       "        text-align: right;\n",
       "    }\n",
       "</style>\n",
       "<table border=\"1\" class=\"dataframe\">\n",
       "  <thead>\n",
       "    <tr style=\"text-align: right;\">\n",
       "      <th></th>\n",
       "      <th>id</th>\n",
       "      <th>name</th>\n",
       "      <th>categories</th>\n",
       "      <th>lat</th>\n",
       "      <th>lng</th>\n",
       "      <th>crossStreet</th>\n",
       "    </tr>\n",
       "  </thead>\n",
       "  <tbody>\n",
       "    <tr>\n",
       "      <th>0</th>\n",
       "      <td>509e80b6e4b04eb23d1ec2e2</td>\n",
       "      <td>Le Plaisir</td>\n",
       "      <td>Bistro</td>\n",
       "      <td>18.514205</td>\n",
       "      <td>73.838551</td>\n",
       "      <td>Opp. Kelkar Eye Hospital, Prabhat Road</td>\n",
       "    </tr>\n",
       "    <tr>\n",
       "      <th>1</th>\n",
       "      <td>4b9b583cf964a520aa0136e3</td>\n",
       "      <td>Café GoodLuck</td>\n",
       "      <td>Café</td>\n",
       "      <td>18.517388</td>\n",
       "      <td>73.841485</td>\n",
       "      <td>Corner of FC Road and Bhandarkar Road</td>\n",
       "    </tr>\n",
       "    <tr>\n",
       "      <th>2</th>\n",
       "      <td>4de24c587d8b2547eaffe58b</td>\n",
       "      <td>Tilak Hotel</td>\n",
       "      <td>Snack Place</td>\n",
       "      <td>18.509603</td>\n",
       "      <td>73.846883</td>\n",
       "      <td>Tilak road</td>\n",
       "    </tr>\n",
       "    <tr>\n",
       "      <th>3</th>\n",
       "      <td>4f016c4629c201c6fec99a78</td>\n",
       "      <td>Barbeque Nation</td>\n",
       "      <td>BBQ Joint</td>\n",
       "      <td>18.516237</td>\n",
       "      <td>73.842223</td>\n",
       "      <td>Jangali Maharaj Road</td>\n",
       "    </tr>\n",
       "    <tr>\n",
       "      <th>4</th>\n",
       "      <td>4de0a8e918380dc4dd35585c</td>\n",
       "      <td>Spice Kitchen</td>\n",
       "      <td>Asian Restaurant</td>\n",
       "      <td>18.531887</td>\n",
       "      <td>73.829571</td>\n",
       "      <td>Senapati Bapat Road</td>\n",
       "    </tr>\n",
       "    <tr>\n",
       "      <th>...</th>\n",
       "      <td>...</td>\n",
       "      <td>...</td>\n",
       "      <td>...</td>\n",
       "      <td>...</td>\n",
       "      <td>...</td>\n",
       "      <td>...</td>\n",
       "    </tr>\n",
       "    <tr>\n",
       "      <th>63</th>\n",
       "      <td>4b93c4e3f964a520bc5034e3</td>\n",
       "      <td>Taareef</td>\n",
       "      <td>Indian Restaurant</td>\n",
       "      <td>18.556077</td>\n",
       "      <td>73.809120</td>\n",
       "      <td>I.t.I. Road</td>\n",
       "    </tr>\n",
       "    <tr>\n",
       "      <th>64</th>\n",
       "      <td>4c88f62594f5a09317dcd31e</td>\n",
       "      <td>Terrace Restaurant</td>\n",
       "      <td>Restaurant</td>\n",
       "      <td>18.477544</td>\n",
       "      <td>73.889783</td>\n",
       "      <td>NIBM</td>\n",
       "    </tr>\n",
       "    <tr>\n",
       "      <th>65</th>\n",
       "      <td>5999469309e2837b2f738659</td>\n",
       "      <td>Tea Villa Cafe</td>\n",
       "      <td>Café</td>\n",
       "      <td>18.562925</td>\n",
       "      <td>73.918076</td>\n",
       "      <td>Vimannagar</td>\n",
       "    </tr>\n",
       "    <tr>\n",
       "      <th>66</th>\n",
       "      <td>4d0a55daacd4a1cdfc6f8193</td>\n",
       "      <td>Richie Rich</td>\n",
       "      <td>Café</td>\n",
       "      <td>18.457362</td>\n",
       "      <td>73.852508</td>\n",
       "      <td>Katraj</td>\n",
       "    </tr>\n",
       "    <tr>\n",
       "      <th>67</th>\n",
       "      <td>51205bb2e4b0a1ec80282126</td>\n",
       "      <td>Khasbaug Misal</td>\n",
       "      <td>Breakfast Spot</td>\n",
       "      <td>18.560823</td>\n",
       "      <td>73.787599</td>\n",
       "      <td>Baner Road</td>\n",
       "    </tr>\n",
       "  </tbody>\n",
       "</table>\n",
       "<p>68 rows × 6 columns</p>\n",
       "</div>"
      ],
      "text/plain": [
       "                          id                name         categories  \\\n",
       "0   509e80b6e4b04eb23d1ec2e2          Le Plaisir             Bistro   \n",
       "1   4b9b583cf964a520aa0136e3       Café GoodLuck               Café   \n",
       "2   4de24c587d8b2547eaffe58b         Tilak Hotel        Snack Place   \n",
       "3   4f016c4629c201c6fec99a78     Barbeque Nation          BBQ Joint   \n",
       "4   4de0a8e918380dc4dd35585c       Spice Kitchen   Asian Restaurant   \n",
       "..                       ...                 ...                ...   \n",
       "63  4b93c4e3f964a520bc5034e3             Taareef  Indian Restaurant   \n",
       "64  4c88f62594f5a09317dcd31e  Terrace Restaurant         Restaurant   \n",
       "65  5999469309e2837b2f738659      Tea Villa Cafe               Café   \n",
       "66  4d0a55daacd4a1cdfc6f8193         Richie Rich               Café   \n",
       "67  51205bb2e4b0a1ec80282126      Khasbaug Misal     Breakfast Spot   \n",
       "\n",
       "          lat        lng                             crossStreet  \n",
       "0   18.514205  73.838551  Opp. Kelkar Eye Hospital, Prabhat Road  \n",
       "1   18.517388  73.841485   Corner of FC Road and Bhandarkar Road  \n",
       "2   18.509603  73.846883                              Tilak road  \n",
       "3   18.516237  73.842223                    Jangali Maharaj Road  \n",
       "4   18.531887  73.829571                     Senapati Bapat Road  \n",
       "..        ...        ...                                     ...  \n",
       "63  18.556077  73.809120                             I.t.I. Road  \n",
       "64  18.477544  73.889783                                    NIBM  \n",
       "65  18.562925  73.918076                              Vimannagar  \n",
       "66  18.457362  73.852508                                  Katraj  \n",
       "67  18.560823  73.787599                              Baner Road  \n",
       "\n",
       "[68 rows x 6 columns]"
      ]
     },
     "execution_count": 9,
     "metadata": {},
     "output_type": "execute_result"
    }
   ],
   "source": [
    "filtered_columns = ['venue.id','venue.name', 'venue.categories', 'venue.location.lat', 'venue.location.lng','venue.location.crossStreet']\n",
    "dataframe_filtered = dataframe.loc[:, filtered_columns]    \n",
    "# filter the category for each row\n",
    "dataframe_filtered['venue.categories'] = dataframe_filtered.apply(get_category_type, axis=1)\n",
    "\n",
    "# clean column names by keeping only last term\n",
    "dataframe_filtered.columns = [column.split('.')[-1] for column in dataframe_filtered.columns]\n",
    "\n",
    "dataframe_filtered.dropna(inplace = True) #DATA Cleaning: By removing the rows with 'NaN' column values\n",
    "dataframe_filtered = dataframe_filtered.reset_index(drop = True)\n",
    "dataframe_filtered"
   ]
  },
  {
   "cell_type": "markdown",
   "metadata": {},
   "source": [
    "Now from this /explore API we have got the Information regarding name,category and location\n",
    "But still we don't have the **Rating** and **Price range** information, we will obtain this information as well using the **Foursquare** API"
   ]
  },
  {
   "cell_type": "code",
   "execution_count": 10,
   "metadata": {},
   "outputs": [
    {
     "data": {
      "text/html": [
       "<div>\n",
       "<style scoped>\n",
       "    .dataframe tbody tr th:only-of-type {\n",
       "        vertical-align: middle;\n",
       "    }\n",
       "\n",
       "    .dataframe tbody tr th {\n",
       "        vertical-align: top;\n",
       "    }\n",
       "\n",
       "    .dataframe thead th {\n",
       "        text-align: right;\n",
       "    }\n",
       "</style>\n",
       "<table border=\"1\" class=\"dataframe\">\n",
       "  <thead>\n",
       "    <tr style=\"text-align: right;\">\n",
       "      <th></th>\n",
       "      <th>id</th>\n",
       "      <th>Rating</th>\n",
       "      <th>Price_Tier</th>\n",
       "      <th>Price_Range</th>\n",
       "    </tr>\n",
       "  </thead>\n",
       "  <tbody>\n",
       "    <tr>\n",
       "      <th>1</th>\n",
       "      <td>4b9b583cf964a520aa0136e3</td>\n",
       "      <td>8.5</td>\n",
       "      <td>1</td>\n",
       "      <td>Cheap</td>\n",
       "    </tr>\n",
       "    <tr>\n",
       "      <th>2</th>\n",
       "      <td>4de24c587d8b2547eaffe58b</td>\n",
       "      <td>8.4</td>\n",
       "      <td>1</td>\n",
       "      <td>Cheap</td>\n",
       "    </tr>\n",
       "    <tr>\n",
       "      <th>3</th>\n",
       "      <td>4f016c4629c201c6fec99a78</td>\n",
       "      <td>8.3</td>\n",
       "      <td>2</td>\n",
       "      <td>Moderate</td>\n",
       "    </tr>\n",
       "    <tr>\n",
       "      <th>4</th>\n",
       "      <td>4de0a8e918380dc4dd35585c</td>\n",
       "      <td>8.6</td>\n",
       "      <td>2</td>\n",
       "      <td>Moderate</td>\n",
       "    </tr>\n",
       "    <tr>\n",
       "      <th>5</th>\n",
       "      <td>4b5ffe7df964a520c9d229e3</td>\n",
       "      <td>8.2</td>\n",
       "      <td>2</td>\n",
       "      <td>Moderate</td>\n",
       "    </tr>\n",
       "    <tr>\n",
       "      <th>...</th>\n",
       "      <td>...</td>\n",
       "      <td>...</td>\n",
       "      <td>...</td>\n",
       "      <td>...</td>\n",
       "    </tr>\n",
       "    <tr>\n",
       "      <th>63</th>\n",
       "      <td>4b93c4e3f964a520bc5034e3</td>\n",
       "      <td>7.5</td>\n",
       "      <td>2</td>\n",
       "      <td>Moderate</td>\n",
       "    </tr>\n",
       "    <tr>\n",
       "      <th>64</th>\n",
       "      <td>4c88f62594f5a09317dcd31e</td>\n",
       "      <td>7.5</td>\n",
       "      <td>2</td>\n",
       "      <td>Moderate</td>\n",
       "    </tr>\n",
       "    <tr>\n",
       "      <th>65</th>\n",
       "      <td>5999469309e2837b2f738659</td>\n",
       "      <td>7.7</td>\n",
       "      <td>1</td>\n",
       "      <td>Cheap</td>\n",
       "    </tr>\n",
       "    <tr>\n",
       "      <th>66</th>\n",
       "      <td>4d0a55daacd4a1cdfc6f8193</td>\n",
       "      <td>7.6</td>\n",
       "      <td>1</td>\n",
       "      <td>Cheap</td>\n",
       "    </tr>\n",
       "    <tr>\n",
       "      <th>67</th>\n",
       "      <td>51205bb2e4b0a1ec80282126</td>\n",
       "      <td>7.7</td>\n",
       "      <td>1</td>\n",
       "      <td>Cheap</td>\n",
       "    </tr>\n",
       "  </tbody>\n",
       "</table>\n",
       "<p>64 rows × 4 columns</p>\n",
       "</div>"
      ],
      "text/plain": [
       "                          id  Rating Price_Tier Price_Range\n",
       "1   4b9b583cf964a520aa0136e3     8.5          1       Cheap\n",
       "2   4de24c587d8b2547eaffe58b     8.4          1       Cheap\n",
       "3   4f016c4629c201c6fec99a78     8.3          2    Moderate\n",
       "4   4de0a8e918380dc4dd35585c     8.6          2    Moderate\n",
       "5   4b5ffe7df964a520c9d229e3     8.2          2    Moderate\n",
       "..                       ...     ...        ...         ...\n",
       "63  4b93c4e3f964a520bc5034e3     7.5          2    Moderate\n",
       "64  4c88f62594f5a09317dcd31e     7.5          2    Moderate\n",
       "65  5999469309e2837b2f738659     7.7          1       Cheap\n",
       "66  4d0a55daacd4a1cdfc6f8193     7.6          1       Cheap\n",
       "67  51205bb2e4b0a1ec80282126     7.7          1       Cheap\n",
       "\n",
       "[64 rows x 4 columns]"
      ]
     },
     "execution_count": 10,
     "metadata": {},
     "output_type": "execute_result"
    }
   ],
   "source": [
    "ratePriceTable = []\n",
    "for index, row in dataframe_filtered.iterrows():\n",
    "    ratingAndPrice = []\n",
    "    venue_id = dataframe_filtered.iloc[index,0]\n",
    "    url = 'https://api.foursquare.com/v2/venues/{}?client_id={}&client_secret={}&v={}'.format(venue_id, CLIENT_ID, CLIENT_SECRET, VERSION)\n",
    "    result = requests.get(url).json()\n",
    "    ratingAndPrice.append(venue_id)\n",
    "    ratingAndPrice.append(result['response']['venue']['rating'])\n",
    "    try:\n",
    "        ratingAndPrice.append(result['response']['venue']['price']['tier'])\n",
    "        ratingAndPrice.append(result['response']['venue']['price']['message'])\n",
    "    except: \n",
    "        ratingAndPrice.append('NaN')\n",
    "        ratingAndPrice.append('NaN')\n",
    "    ratePriceTable.append(ratingAndPrice)\n",
    "\n",
    "ratingPriceDf = pd.DataFrame(ratePriceTable, \n",
    "                                  columns = ['id','Rating', 'Price_Tier', \n",
    "                                             'Price_Range'])\n",
    "ratingPriceDf = ratingPriceDf[ratingPriceDf['Price_Tier'] != \"NaN\"]\n",
    "ratingPriceDf = ratingPriceDf[ratingPriceDf['Price_Range'] != \"NaN\"]\n",
    "ratingPriceDf.reset_index(drop = True)\n",
    "ratingPriceDf"
   ]
  },
  {
   "cell_type": "markdown",
   "metadata": {},
   "source": [
    "Now we will merge these two Dataframes "
   ]
  },
  {
   "cell_type": "code",
   "execution_count": 11,
   "metadata": {},
   "outputs": [
    {
     "data": {
      "text/html": [
       "<div>\n",
       "<style scoped>\n",
       "    .dataframe tbody tr th:only-of-type {\n",
       "        vertical-align: middle;\n",
       "    }\n",
       "\n",
       "    .dataframe tbody tr th {\n",
       "        vertical-align: top;\n",
       "    }\n",
       "\n",
       "    .dataframe thead th {\n",
       "        text-align: right;\n",
       "    }\n",
       "</style>\n",
       "<table border=\"1\" class=\"dataframe\">\n",
       "  <thead>\n",
       "    <tr style=\"text-align: right;\">\n",
       "      <th></th>\n",
       "      <th>id</th>\n",
       "      <th>Rating</th>\n",
       "      <th>Price_Tier</th>\n",
       "      <th>Price_Range</th>\n",
       "      <th>name</th>\n",
       "      <th>categories</th>\n",
       "      <th>lat</th>\n",
       "      <th>lng</th>\n",
       "      <th>crossStreet</th>\n",
       "    </tr>\n",
       "  </thead>\n",
       "  <tbody>\n",
       "    <tr>\n",
       "      <th>0</th>\n",
       "      <td>4b9b583cf964a520aa0136e3</td>\n",
       "      <td>8.5</td>\n",
       "      <td>1</td>\n",
       "      <td>Cheap</td>\n",
       "      <td>Café GoodLuck</td>\n",
       "      <td>Café</td>\n",
       "      <td>18.517388</td>\n",
       "      <td>73.841485</td>\n",
       "      <td>Corner of FC Road and Bhandarkar Road</td>\n",
       "    </tr>\n",
       "    <tr>\n",
       "      <th>1</th>\n",
       "      <td>4de24c587d8b2547eaffe58b</td>\n",
       "      <td>8.4</td>\n",
       "      <td>1</td>\n",
       "      <td>Cheap</td>\n",
       "      <td>Tilak Hotel</td>\n",
       "      <td>Snack Place</td>\n",
       "      <td>18.509603</td>\n",
       "      <td>73.846883</td>\n",
       "      <td>Tilak road</td>\n",
       "    </tr>\n",
       "    <tr>\n",
       "      <th>2</th>\n",
       "      <td>4f016c4629c201c6fec99a78</td>\n",
       "      <td>8.3</td>\n",
       "      <td>2</td>\n",
       "      <td>Moderate</td>\n",
       "      <td>Barbeque Nation</td>\n",
       "      <td>BBQ Joint</td>\n",
       "      <td>18.516237</td>\n",
       "      <td>73.842223</td>\n",
       "      <td>Jangali Maharaj Road</td>\n",
       "    </tr>\n",
       "    <tr>\n",
       "      <th>3</th>\n",
       "      <td>4de0a8e918380dc4dd35585c</td>\n",
       "      <td>8.6</td>\n",
       "      <td>2</td>\n",
       "      <td>Moderate</td>\n",
       "      <td>Spice Kitchen</td>\n",
       "      <td>Asian Restaurant</td>\n",
       "      <td>18.531887</td>\n",
       "      <td>73.829571</td>\n",
       "      <td>Senapati Bapat Road</td>\n",
       "    </tr>\n",
       "    <tr>\n",
       "      <th>4</th>\n",
       "      <td>4b5ffe7df964a520c9d229e3</td>\n",
       "      <td>8.2</td>\n",
       "      <td>2</td>\n",
       "      <td>Moderate</td>\n",
       "      <td>Hotel Roopali</td>\n",
       "      <td>Indian Restaurant</td>\n",
       "      <td>18.519343</td>\n",
       "      <td>73.841334</td>\n",
       "      <td>Sudhabhau Kelkar Road</td>\n",
       "    </tr>\n",
       "    <tr>\n",
       "      <th>...</th>\n",
       "      <td>...</td>\n",
       "      <td>...</td>\n",
       "      <td>...</td>\n",
       "      <td>...</td>\n",
       "      <td>...</td>\n",
       "      <td>...</td>\n",
       "      <td>...</td>\n",
       "      <td>...</td>\n",
       "      <td>...</td>\n",
       "    </tr>\n",
       "    <tr>\n",
       "      <th>59</th>\n",
       "      <td>4b93c4e3f964a520bc5034e3</td>\n",
       "      <td>7.5</td>\n",
       "      <td>2</td>\n",
       "      <td>Moderate</td>\n",
       "      <td>Taareef</td>\n",
       "      <td>Indian Restaurant</td>\n",
       "      <td>18.556077</td>\n",
       "      <td>73.809120</td>\n",
       "      <td>I.t.I. Road</td>\n",
       "    </tr>\n",
       "    <tr>\n",
       "      <th>60</th>\n",
       "      <td>4c88f62594f5a09317dcd31e</td>\n",
       "      <td>7.5</td>\n",
       "      <td>2</td>\n",
       "      <td>Moderate</td>\n",
       "      <td>Terrace Restaurant</td>\n",
       "      <td>Restaurant</td>\n",
       "      <td>18.477544</td>\n",
       "      <td>73.889783</td>\n",
       "      <td>NIBM</td>\n",
       "    </tr>\n",
       "    <tr>\n",
       "      <th>61</th>\n",
       "      <td>5999469309e2837b2f738659</td>\n",
       "      <td>7.7</td>\n",
       "      <td>1</td>\n",
       "      <td>Cheap</td>\n",
       "      <td>Tea Villa Cafe</td>\n",
       "      <td>Café</td>\n",
       "      <td>18.562925</td>\n",
       "      <td>73.918076</td>\n",
       "      <td>Vimannagar</td>\n",
       "    </tr>\n",
       "    <tr>\n",
       "      <th>62</th>\n",
       "      <td>4d0a55daacd4a1cdfc6f8193</td>\n",
       "      <td>7.6</td>\n",
       "      <td>1</td>\n",
       "      <td>Cheap</td>\n",
       "      <td>Richie Rich</td>\n",
       "      <td>Café</td>\n",
       "      <td>18.457362</td>\n",
       "      <td>73.852508</td>\n",
       "      <td>Katraj</td>\n",
       "    </tr>\n",
       "    <tr>\n",
       "      <th>63</th>\n",
       "      <td>51205bb2e4b0a1ec80282126</td>\n",
       "      <td>7.7</td>\n",
       "      <td>1</td>\n",
       "      <td>Cheap</td>\n",
       "      <td>Khasbaug Misal</td>\n",
       "      <td>Breakfast Spot</td>\n",
       "      <td>18.560823</td>\n",
       "      <td>73.787599</td>\n",
       "      <td>Baner Road</td>\n",
       "    </tr>\n",
       "  </tbody>\n",
       "</table>\n",
       "<p>64 rows × 9 columns</p>\n",
       "</div>"
      ],
      "text/plain": [
       "                          id  Rating Price_Tier Price_Range  \\\n",
       "0   4b9b583cf964a520aa0136e3     8.5          1       Cheap   \n",
       "1   4de24c587d8b2547eaffe58b     8.4          1       Cheap   \n",
       "2   4f016c4629c201c6fec99a78     8.3          2    Moderate   \n",
       "3   4de0a8e918380dc4dd35585c     8.6          2    Moderate   \n",
       "4   4b5ffe7df964a520c9d229e3     8.2          2    Moderate   \n",
       "..                       ...     ...        ...         ...   \n",
       "59  4b93c4e3f964a520bc5034e3     7.5          2    Moderate   \n",
       "60  4c88f62594f5a09317dcd31e     7.5          2    Moderate   \n",
       "61  5999469309e2837b2f738659     7.7          1       Cheap   \n",
       "62  4d0a55daacd4a1cdfc6f8193     7.6          1       Cheap   \n",
       "63  51205bb2e4b0a1ec80282126     7.7          1       Cheap   \n",
       "\n",
       "                  name         categories        lat        lng  \\\n",
       "0        Café GoodLuck               Café  18.517388  73.841485   \n",
       "1          Tilak Hotel        Snack Place  18.509603  73.846883   \n",
       "2      Barbeque Nation          BBQ Joint  18.516237  73.842223   \n",
       "3        Spice Kitchen   Asian Restaurant  18.531887  73.829571   \n",
       "4        Hotel Roopali  Indian Restaurant  18.519343  73.841334   \n",
       "..                 ...                ...        ...        ...   \n",
       "59             Taareef  Indian Restaurant  18.556077  73.809120   \n",
       "60  Terrace Restaurant         Restaurant  18.477544  73.889783   \n",
       "61      Tea Villa Cafe               Café  18.562925  73.918076   \n",
       "62         Richie Rich               Café  18.457362  73.852508   \n",
       "63      Khasbaug Misal     Breakfast Spot  18.560823  73.787599   \n",
       "\n",
       "                              crossStreet  \n",
       "0   Corner of FC Road and Bhandarkar Road  \n",
       "1                              Tilak road  \n",
       "2                    Jangali Maharaj Road  \n",
       "3                     Senapati Bapat Road  \n",
       "4                   Sudhabhau Kelkar Road  \n",
       "..                                    ...  \n",
       "59                            I.t.I. Road  \n",
       "60                                   NIBM  \n",
       "61                             Vimannagar  \n",
       "62                                 Katraj  \n",
       "63                             Baner Road  \n",
       "\n",
       "[64 rows x 9 columns]"
      ]
     },
     "execution_count": 11,
     "metadata": {},
     "output_type": "execute_result"
    }
   ],
   "source": [
    "mergedDf = pd.merge(ratingPriceDf,dataframe_filtered,how='right',on='id')\n",
    "mergedDf.dropna(inplace = True)\n",
    "mergedDf.reset_index(drop = True)"
   ]
  },
  {
   "cell_type": "markdown",
   "metadata": {},
   "source": [
    "Looking good. So now after Data cleaning and processing we have the **64** restaurants in area with the required information\n",
    "\n",
    "This concludes the data gathering phase - we're now ready to use this data for analysis to produce the report "
   ]
  },
  {
   "cell_type": "code",
   "execution_count": 12,
   "metadata": {},
   "outputs": [],
   "source": [
    "mergedDf.to_csv('dataFrame.csv')"
   ]
  },
  {
   "cell_type": "markdown",
   "metadata": {},
   "source": [
    "## Methodology <a name=\"methodology\"></a>"
   ]
  },
  {
   "cell_type": "markdown",
   "metadata": {},
   "source": [
    "In this project our objective is to explore and group the restaurants in the city of Pune in few categories based on the Ratings and Price range of the Restaurants.\n",
    "\n",
    "In first step we have collected the required **data: location, type (category), rating, price range of every restaurant within 20km from Pune center** by using only the Foursquare API\n",
    "\n",
    "In the Second step, we'll **analyse** the data that we created based on the ratings and price of each restaurants. We'll analyze the restaurants based on their **Category distribution** and also analyze restaurants based on their **Price range**\n",
    "\n",
    "Lastly in the third and final step, we'll **cluster the restaurants based on the available information of each**. This will allow us to clearly identify which restaurants can be recommended and with what features."
   ]
  },
  {
   "cell_type": "markdown",
   "metadata": {},
   "source": [
    "## Analysis <a name=\"analysis\"></a>"
   ]
  },
  {
   "cell_type": "markdown",
   "metadata": {},
   "source": [
    "We will perform some basic explanatory data analysis and derive some additional info from our raw data."
   ]
  },
  {
   "cell_type": "markdown",
   "metadata": {},
   "source": [
    "Let's have look at the selected restaurants on the Pune city map"
   ]
  },
  {
   "cell_type": "code",
   "execution_count": 13,
   "metadata": {},
   "outputs": [
    {
     "data": {
      "text/html": [
       "<div style=\"width:100%;\"><div style=\"position:relative;width:100%;height:0;padding-bottom:60%;\"><iframe src=\"about:blank\" style=\"position:absolute;width:100%;height:100%;left:0;top:0;border:none !important;\" data-html=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 onload=\"this.contentDocument.open();this.contentDocument.write(atob(this.getAttribute('data-html')));this.contentDocument.close();\" allowfullscreen webkitallowfullscreen mozallowfullscreen></iframe></div></div>"
      ],
      "text/plain": [
       "<folium.folium.Map at 0x7feece612198>"
      ]
     },
     "execution_count": 13,
     "metadata": {},
     "output_type": "execute_result"
    }
   ],
   "source": [
    "#Restaurants on map\n",
    "latitude = location.latitude\n",
    "longitude = location.longitude\n",
    "pune_map = folium.Map(location = [latitude, longitude], zoom_start = 13)\n",
    "\n",
    "for name, latitude, longitude in zip(mergedDf['name'], mergedDf['lat'], mergedDf['lng']):\n",
    "    label = '{}'.format(name)\n",
    "    label = folium.Popup(label, parse_html = True)\n",
    "    folium.CircleMarker(\n",
    "        [latitude, longitude],\n",
    "        radius = 5,\n",
    "        popup = label,\n",
    "        color = 'green',\n",
    "        fill = True,\n",
    "        fill_color = '#3186cc',\n",
    "        fill_opacity = 0.7,\n",
    "        parse_html = False).add_to(pune_map)  \n",
    "\n",
    "pune_map.save(\"Restaurant map.html\")\n",
    "pune_map"
   ]
  },
  {
   "cell_type": "markdown",
   "metadata": {},
   "source": [
    "There are restaurants of various categories in Pune. Let's plot it and check which is the **most popular category**"
   ]
  },
  {
   "cell_type": "code",
   "execution_count": 14,
   "metadata": {},
   "outputs": [
    {
     "data": {
      "text/plain": [
       "<BarContainer object of 21 artists>"
      ]
     },
     "execution_count": 14,
     "metadata": {},
     "output_type": "execute_result"
    },
    {
     "data": {
      "image/png": "[encoded data removed]",
      "text/plain": [
       "<Figure size 1440x720 with 1 Axes>"
      ]
     },
     "metadata": {
      "needs_background": "light"
     },
     "output_type": "display_data"
    }
   ],
   "source": [
    "foodPlace_distribution = mergedDf['categories'].value_counts()\n",
    "colors = cm.rainbow(np.linspace(0, 1, len(foodPlace_distribution.index)))\n",
    "plt.figure(figsize = (20, 10))\n",
    "plt.xticks(rotation = 90)\n",
    "plt.xlabel(\"Food place category\", fontsize = 15)\n",
    "plt.ylabel(\"Count\", fontsize = 15)\n",
    "plt.title(\"Food place category vs Count Plot\", fontsize = 16)\n",
    "plt.bar(foodPlace_distribution.index, foodPlace_distribution.values, color = colors)"
   ]
  },
  {
   "cell_type": "markdown",
   "metadata": {},
   "source": [
    "From this plot we can understand that the 3 most popular categories of Eateries in Pune are **Indian Restaurants**, **Cafe** and **Italian Restaurants**"
   ]
  },
  {
   "cell_type": "markdown",
   "metadata": {},
   "source": [
    "Now we will plot the Price Category vs Count plot to get idea of Price category of majority of restaurants."
   ]
  },
  {
   "cell_type": "code",
   "execution_count": 15,
   "metadata": {},
   "outputs": [
    {
     "data": {
      "text/plain": [
       "<BarContainer object of 4 artists>"
      ]
     },
     "execution_count": 15,
     "metadata": {},
     "output_type": "execute_result"
    },
    {
     "data": {
      "image/png": "[encoded data removed]",
      "text/plain": [
       "<Figure size 1440x720 with 1 Axes>"
      ]
     },
     "metadata": {
      "needs_background": "light"
     },
     "output_type": "display_data"
    }
   ],
   "source": [
    "price_distribution = mergedDf['Price_Range'].value_counts()\n",
    "colors = cm.rainbow(np.linspace(0, 1, len(price_distribution.index)))\n",
    "plt.figure(figsize = (20, 10))\n",
    "plt.xticks(rotation = 90)\n",
    "plt.xlabel(\"Price category\", fontsize = 15)\n",
    "plt.ylabel(\"Count\", fontsize = 15)\n",
    "plt.title(\"Price category vs Count Plot\", fontsize = 16)\n",
    "plt.bar(price_distribution.index, price_distribution.values, color = colors)"
   ]
  },
  {
   "cell_type": "markdown",
   "metadata": {},
   "source": [
    "From this plot we can understand that the **majority** restaurants in Pune are **Moderately priced** or **Cheaply priced**.\n",
    "There are very few Expensive/Very Expensive restaurants in Pune"
   ]
  },
  {
   "cell_type": "markdown",
   "metadata": {},
   "source": [
    "**Data Preprocessing**\n",
    "\n",
    "Now we will **prepare the data** so that we can apply it to the **Clustering model**\n",
    "\n",
    "First we will convert the type of the required column value to **Integer/Float**"
   ]
  },
  {
   "cell_type": "code",
   "execution_count": 16,
   "metadata": {},
   "outputs": [
    {
     "data": {
      "text/plain": [
       "id              object\n",
       "Rating         float64\n",
       "Price_Tier     float64\n",
       "Price_Range     object\n",
       "name            object\n",
       "categories      object\n",
       "lat            float64\n",
       "lng            float64\n",
       "crossStreet     object\n",
       "dtype: object"
      ]
     },
     "execution_count": 16,
     "metadata": {},
     "output_type": "execute_result"
    }
   ],
   "source": [
    "mergedDf = mergedDf.astype({\"Price_Tier\": float})\n",
    "mergedDf.dtypes"
   ]
  },
  {
   "cell_type": "markdown",
   "metadata": {},
   "source": [
    "We will only require the **Rating and Price_Tier** column for clustering.\n",
    "\n",
    "So we will remove the other columns"
   ]
  },
  {
   "cell_type": "code",
   "execution_count": 17,
   "metadata": {},
   "outputs": [
    {
     "data": {
      "text/html": [
       "<div>\n",
       "<style scoped>\n",
       "    .dataframe tbody tr th:only-of-type {\n",
       "        vertical-align: middle;\n",
       "    }\n",
       "\n",
       "    .dataframe tbody tr th {\n",
       "        vertical-align: top;\n",
       "    }\n",
       "\n",
       "    .dataframe thead th {\n",
       "        text-align: right;\n",
       "    }\n",
       "</style>\n",
       "<table border=\"1\" class=\"dataframe\">\n",
       "  <thead>\n",
       "    <tr style=\"text-align: right;\">\n",
       "      <th></th>\n",
       "      <th>Rating</th>\n",
       "      <th>Price_Tier</th>\n",
       "    </tr>\n",
       "  </thead>\n",
       "  <tbody>\n",
       "    <tr>\n",
       "      <th>0</th>\n",
       "      <td>8.5</td>\n",
       "      <td>1.0</td>\n",
       "    </tr>\n",
       "    <tr>\n",
       "      <th>1</th>\n",
       "      <td>8.4</td>\n",
       "      <td>1.0</td>\n",
       "    </tr>\n",
       "    <tr>\n",
       "      <th>2</th>\n",
       "      <td>8.3</td>\n",
       "      <td>2.0</td>\n",
       "    </tr>\n",
       "    <tr>\n",
       "      <th>3</th>\n",
       "      <td>8.6</td>\n",
       "      <td>2.0</td>\n",
       "    </tr>\n",
       "    <tr>\n",
       "      <th>4</th>\n",
       "      <td>8.2</td>\n",
       "      <td>2.0</td>\n",
       "    </tr>\n",
       "  </tbody>\n",
       "</table>\n",
       "</div>"
      ],
      "text/plain": [
       "   Rating  Price_Tier\n",
       "0     8.5         1.0\n",
       "1     8.4         1.0\n",
       "2     8.3         2.0\n",
       "3     8.6         2.0\n",
       "4     8.2         2.0"
      ]
     },
     "execution_count": 17,
     "metadata": {},
     "output_type": "execute_result"
    }
   ],
   "source": [
    "dfForClustering = mergedDf.drop(['id','Price_Range','name','categories','lat','lng','crossStreet'], axis=1)\n",
    "dfForClustering.head()"
   ]
  },
  {
   "cell_type": "markdown",
   "metadata": {},
   "source": [
    "Now let's normalize the dataset.  Normalization is a statistical method that helps mathematical-based algorithms interpret features with different magnitudes and distributions equally. We use **StandardScaler()** to normalize our dataset."
   ]
  },
  {
   "cell_type": "code",
   "execution_count": 18,
   "metadata": {},
   "outputs": [],
   "source": [
    "from sklearn.preprocessing import StandardScaler\n",
    "\n",
    "X = dfForClustering.values[:,1:]\n",
    "X = np.nan_to_num(X)\n",
    "cluster_dataset = StandardScaler().fit_transform(X)"
   ]
  },
  {
   "cell_type": "markdown",
   "metadata": {},
   "source": [
    "### Modeling"
   ]
  },
  {
   "cell_type": "markdown",
   "metadata": {},
   "source": [
    "Let's run our model and group the restaurants into 3 clusters"
   ]
  },
  {
   "cell_type": "code",
   "execution_count": 19,
   "metadata": {},
   "outputs": [
    {
     "name": "stdout",
     "output_type": "stream",
     "text": [
      "[0 0 1 1 1 0 1 0 1 1 0 0 2 1 0 1 1 1 2 2 1 1 0 0 0 1 0 1 1 1 1 0 1 0 0 0 1\n",
      " 1 1 0 1 1 1 2 0 0 1 1 0 1 1 1 1 0 0 2 1 0 0 1 1 0 0 0]\n"
     ]
    }
   ],
   "source": [
    "from sklearn.cluster import KMeans \n",
    "num_clusters = 3\n",
    "\n",
    "k_means = KMeans(init=\"k-means++\", n_clusters=num_clusters, n_init=16, random_state = 0)\n",
    "k_means.fit(cluster_dataset)\n",
    "labels = k_means.labels_\n",
    "\n",
    "print(labels)"
   ]
  },
  {
   "cell_type": "markdown",
   "metadata": {},
   "source": [
    "Note that each row in our dataset represents a restaurant, and therefore, each row is assigned a label."
   ]
  },
  {
   "cell_type": "code",
   "execution_count": 20,
   "metadata": {},
   "outputs": [
    {
     "data": {
      "text/html": [
       "<div>\n",
       "<style scoped>\n",
       "    .dataframe tbody tr th:only-of-type {\n",
       "        vertical-align: middle;\n",
       "    }\n",
       "\n",
       "    .dataframe tbody tr th {\n",
       "        vertical-align: top;\n",
       "    }\n",
       "\n",
       "    .dataframe thead th {\n",
       "        text-align: right;\n",
       "    }\n",
       "</style>\n",
       "<table border=\"1\" class=\"dataframe\">\n",
       "  <thead>\n",
       "    <tr style=\"text-align: right;\">\n",
       "      <th></th>\n",
       "      <th>id</th>\n",
       "      <th>Rating</th>\n",
       "      <th>Price_Tier</th>\n",
       "      <th>Price_Range</th>\n",
       "      <th>name</th>\n",
       "      <th>categories</th>\n",
       "      <th>lat</th>\n",
       "      <th>lng</th>\n",
       "      <th>crossStreet</th>\n",
       "      <th>Labels</th>\n",
       "    </tr>\n",
       "  </thead>\n",
       "  <tbody>\n",
       "    <tr>\n",
       "      <th>0</th>\n",
       "      <td>4b9b583cf964a520aa0136e3</td>\n",
       "      <td>8.5</td>\n",
       "      <td>1.0</td>\n",
       "      <td>Cheap</td>\n",
       "      <td>Café GoodLuck</td>\n",
       "      <td>Café</td>\n",
       "      <td>18.517388</td>\n",
       "      <td>73.841485</td>\n",
       "      <td>Corner of FC Road and Bhandarkar Road</td>\n",
       "      <td>0</td>\n",
       "    </tr>\n",
       "    <tr>\n",
       "      <th>1</th>\n",
       "      <td>4de24c587d8b2547eaffe58b</td>\n",
       "      <td>8.4</td>\n",
       "      <td>1.0</td>\n",
       "      <td>Cheap</td>\n",
       "      <td>Tilak Hotel</td>\n",
       "      <td>Snack Place</td>\n",
       "      <td>18.509603</td>\n",
       "      <td>73.846883</td>\n",
       "      <td>Tilak road</td>\n",
       "      <td>0</td>\n",
       "    </tr>\n",
       "    <tr>\n",
       "      <th>2</th>\n",
       "      <td>4f016c4629c201c6fec99a78</td>\n",
       "      <td>8.3</td>\n",
       "      <td>2.0</td>\n",
       "      <td>Moderate</td>\n",
       "      <td>Barbeque Nation</td>\n",
       "      <td>BBQ Joint</td>\n",
       "      <td>18.516237</td>\n",
       "      <td>73.842223</td>\n",
       "      <td>Jangali Maharaj Road</td>\n",
       "      <td>1</td>\n",
       "    </tr>\n",
       "    <tr>\n",
       "      <th>3</th>\n",
       "      <td>4de0a8e918380dc4dd35585c</td>\n",
       "      <td>8.6</td>\n",
       "      <td>2.0</td>\n",
       "      <td>Moderate</td>\n",
       "      <td>Spice Kitchen</td>\n",
       "      <td>Asian Restaurant</td>\n",
       "      <td>18.531887</td>\n",
       "      <td>73.829571</td>\n",
       "      <td>Senapati Bapat Road</td>\n",
       "      <td>1</td>\n",
       "    </tr>\n",
       "    <tr>\n",
       "      <th>4</th>\n",
       "      <td>4b5ffe7df964a520c9d229e3</td>\n",
       "      <td>8.2</td>\n",
       "      <td>2.0</td>\n",
       "      <td>Moderate</td>\n",
       "      <td>Hotel Roopali</td>\n",
       "      <td>Indian Restaurant</td>\n",
       "      <td>18.519343</td>\n",
       "      <td>73.841334</td>\n",
       "      <td>Sudhabhau Kelkar Road</td>\n",
       "      <td>1</td>\n",
       "    </tr>\n",
       "  </tbody>\n",
       "</table>\n",
       "</div>"
      ],
      "text/plain": [
       "                         id  Rating  Price_Tier Price_Range             name  \\\n",
       "0  4b9b583cf964a520aa0136e3     8.5         1.0       Cheap    Café GoodLuck   \n",
       "1  4de24c587d8b2547eaffe58b     8.4         1.0       Cheap      Tilak Hotel   \n",
       "2  4f016c4629c201c6fec99a78     8.3         2.0    Moderate  Barbeque Nation   \n",
       "3  4de0a8e918380dc4dd35585c     8.6         2.0    Moderate    Spice Kitchen   \n",
       "4  4b5ffe7df964a520c9d229e3     8.2         2.0    Moderate    Hotel Roopali   \n",
       "\n",
       "          categories        lat        lng  \\\n",
       "0               Café  18.517388  73.841485   \n",
       "1        Snack Place  18.509603  73.846883   \n",
       "2          BBQ Joint  18.516237  73.842223   \n",
       "3   Asian Restaurant  18.531887  73.829571   \n",
       "4  Indian Restaurant  18.519343  73.841334   \n",
       "\n",
       "                             crossStreet  Labels  \n",
       "0  Corner of FC Road and Bhandarkar Road       0  \n",
       "1                             Tilak road       0  \n",
       "2                   Jangali Maharaj Road       1  \n",
       "3                    Senapati Bapat Road       1  \n",
       "4                  Sudhabhau Kelkar Road       1  "
      ]
     },
     "execution_count": 20,
     "metadata": {},
     "output_type": "execute_result"
    }
   ],
   "source": [
    "mergedDfWithLabels = mergedDf\n",
    "mergedDfWithLabels[\"Labels\"] = labels\n",
    "mergedDfWithLabels.head(5)"
   ]
  },
  {
   "cell_type": "markdown",
   "metadata": {},
   "source": [
    "Now we will group the dataset by **Labels** and acquire the **average** value of **Rating and Price_Tier** for each Cluster."
   ]
  },
  {
   "cell_type": "code",
   "execution_count": 21,
   "metadata": {},
   "outputs": [
    {
     "data": {
      "text/html": [
       "<div>\n",
       "<style scoped>\n",
       "    .dataframe tbody tr th:only-of-type {\n",
       "        vertical-align: middle;\n",
       "    }\n",
       "\n",
       "    .dataframe tbody tr th {\n",
       "        vertical-align: top;\n",
       "    }\n",
       "\n",
       "    .dataframe thead th {\n",
       "        text-align: right;\n",
       "    }\n",
       "</style>\n",
       "<table border=\"1\" class=\"dataframe\">\n",
       "  <thead>\n",
       "    <tr style=\"text-align: right;\">\n",
       "      <th></th>\n",
       "      <th>Rating</th>\n",
       "      <th>Price_Tier</th>\n",
       "      <th>lat</th>\n",
       "      <th>lng</th>\n",
       "    </tr>\n",
       "    <tr>\n",
       "      <th>Labels</th>\n",
       "      <th></th>\n",
       "      <th></th>\n",
       "      <th></th>\n",
       "      <th></th>\n",
       "    </tr>\n",
       "  </thead>\n",
       "  <tbody>\n",
       "    <tr>\n",
       "      <th>0</th>\n",
       "      <td>8.003846</td>\n",
       "      <td>1.0</td>\n",
       "      <td>18.513081</td>\n",
       "      <td>73.864331</td>\n",
       "    </tr>\n",
       "    <tr>\n",
       "      <th>1</th>\n",
       "      <td>7.972727</td>\n",
       "      <td>2.0</td>\n",
       "      <td>18.527074</td>\n",
       "      <td>73.860307</td>\n",
       "    </tr>\n",
       "    <tr>\n",
       "      <th>2</th>\n",
       "      <td>7.940000</td>\n",
       "      <td>3.2</td>\n",
       "      <td>18.522934</td>\n",
       "      <td>73.862012</td>\n",
       "    </tr>\n",
       "  </tbody>\n",
       "</table>\n",
       "</div>"
      ],
      "text/plain": [
       "          Rating  Price_Tier        lat        lng\n",
       "Labels                                            \n",
       "0       8.003846         1.0  18.513081  73.864331\n",
       "1       7.972727         2.0  18.527074  73.860307\n",
       "2       7.940000         3.2  18.522934  73.862012"
      ]
     },
     "execution_count": 21,
     "metadata": {},
     "output_type": "execute_result"
    }
   ],
   "source": [
    "mergedDfWithLabels.groupby('Labels').mean()"
   ]
  },
  {
   "cell_type": "markdown",
   "metadata": {},
   "source": [
    "Now we can create a profile for each group, considering the common characteristics of each cluster. \n",
    "For example, the 3 clusters can be:\n",
    "\n",
    "- Cheaply priced Restaurants\n",
    "- Moderately priced Restaurants\n",
    "- Expensive/Very Expensive Restaurants\n",
    "\n",
    "Also we can conclude that the ratings of restaurants in Pune is almost same which is approximately 8 (A Good rating)"
   ]
  },
  {
   "cell_type": "markdown",
   "metadata": {},
   "source": [
    "Now we will plot the restaurants of these Clusters on the Pune map."
   ]
  },
  {
   "cell_type": "code",
   "execution_count": 22,
   "metadata": {},
   "outputs": [
    {
     "data": {
      "text/html": [
       "<div style=\"width:100%;\"><div style=\"position:relative;width:100%;height:0;padding-bottom:60%;\"><iframe src=\"about:blank\" style=\"position:absolute;width:100%;height:100%;left:0;top:0;border:none !important;\" data-html=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 onload=\"this.contentDocument.open();this.contentDocument.write(atob(this.getAttribute('data-html')));this.contentDocument.close();\" allowfullscreen webkitallowfullscreen mozallowfullscreen></iframe></div></div>"
      ],
      "text/plain": [
       "<folium.folium.Map at 0x7feeca2c0f28>"
      ]
     },
     "execution_count": 22,
     "metadata": {},
     "output_type": "execute_result"
    }
   ],
   "source": [
    "pune_map = folium.Map(location = [latitude, longitude], zoom_start = 12)\n",
    "color_map = { 0: 'green', 1: 'yellow', 2: 'red'}\n",
    "\n",
    "# add venues to the map\n",
    "markers_colors = []\n",
    "for venue, address, cluster, lat, lng in zip(mergedDfWithLabels['name'], \n",
    "                                                        mergedDfWithLabels['crossStreet'], \n",
    "                                                        mergedDfWithLabels['Labels'], \n",
    "                                                        mergedDfWithLabels['lat'], \n",
    "                                                        mergedDfWithLabels['lng']):\n",
    "    label = folium.Popup(str(venue) + ', ' + str(address), parse_html = True)\n",
    "    folium.CircleMarker(\n",
    "        [lat, lng],\n",
    "        radius = 5,\n",
    "        popup = label,\n",
    "        color = color_map[cluster],\n",
    "        fill = True,\n",
    "        fill_color = color_map[cluster],\n",
    "        fill_opacity = 0.7).add_to(pune_map)\n",
    "\n",
    "pune_map.save(\"ClustersMap.html\")\n",
    "pune_map"
   ]
  },
  {
   "cell_type": "markdown",
   "metadata": {},
   "source": [
    "## Results and Discussion <a name=\"results\"></a>"
   ]
  },
  {
   "cell_type": "markdown",
   "metadata": {},
   "source": [
    "Based on our analysis above, we can draw a number of conclusions that will be useful to any food lover in Pune\n",
    "\n",
    "After collecting data from the **Foursquare API** we got a total of **100** restaurants. However after Data cleaning it resuted in a total restaurant count of **64**.\n",
    "\n",
    "We identified that from the total number of eateries in Pune the most popular eateries are **Indian Restaurants, Cafes and Italian restaurants** respectively.\n",
    "\n",
    "We also understood that most of the eateries in Pune are **Moderately** and **Cheaply Priced** only few eateries fall in the ****Expensive/ Very Expensive** Category\n",
    "\n",
    "Finally through Clustering we came to know that most of the restaurants in Pune have a **good Rating** and also based on the **Price range** they can be categorized into three types i.e.:\n",
    "- Cheaply priced Restaurants\n",
    "- Moderately priced Restaurants\n",
    "- Expensive/Very Expensive Restaurants\n",
    "\n",
    "With this information and by looking at the map we can conclude that :\n",
    "- **Cheaply priced** Restaurants are located mainly in the Wanawadi area and the Pune Cantonment area\n",
    "- **Moderately priced** Restaurants mainly are located near Deccan Gymkhana and Bund Garden road\n",
    "- **Expensive/Very Expensive** Restaurants are located mainly near Kothrud and Pune Junction area"
   ]
  },
  {
   "cell_type": "markdown",
   "metadata": {},
   "source": [
    "## Conclusion <a name=\"conclusion\"></a>"
   ]
  },
  {
   "cell_type": "markdown",
   "metadata": {},
   "source": [
    "The purpose of this project was to explore and group the restaurants in Pune based on their Ratings and Price range in order to help people locate the restaurants according to their needs.In this project we collected the required data, proccessed it, analyzed it and performed clustering of these restaurants and identified the places where we can find the restaurants of desired categories \n",
    "\n",
    "We found that Cheaply priced Restaurants are located mainly in the Wanawadi area and the Pune Cantonment area, while the Moderately priced Restaurants mainly are located near Deccan Gymkhana and Bund Garden road and the Expensive/Very Expensive Restaurants are located mainly near Kothrud and Pune Junction area"
   ]
  },
  {
   "cell_type": "code",
   "execution_count": null,
   "metadata": {},
   "outputs": [],
   "source": []
  },
  {
   "cell_type": "code",
   "execution_count": null,
   "metadata": {},
   "outputs": [],
   "source": []
  }
 ],
 "metadata": {
  "kernelspec": {
   "display_name": "Python",
   "language": "python",
   "name": "conda-env-python-py"
  },
  "language_info": {
   "codemirror_mode": {
    "name": "ipython",
    "version": 3
   },
   "file_extension": ".py",
   "mimetype": "text/x-python",
   "name": "python",
   "nbconvert_exporter": "python",
   "pygments_lexer": "ipython3",
   "version": "3.6.10"
  }
 },
 "nbformat": 4,
 "nbformat_minor": 4
}
